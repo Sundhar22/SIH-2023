{
 "cells": [
  {
   "cell_type": "code",
   "execution_count": 1,
   "metadata": {},
   "outputs": [
    {
     "name": "stdout",
     "output_type": "stream",
     "text": [
      "Hello\n"
     ]
    }
   ],
   "source": [
    "print(\"Hello\")"
   ]
  },
  {
   "cell_type": "code",
   "execution_count": 2,
   "metadata": {},
   "outputs": [],
   "source": []
  },
  {
   "cell_type": "code",
   "execution_count": 5,
   "metadata": {},
   "outputs": [],
   "source": [
    "import wikipedia\n",
    "ny = wikipedia.summary(\"\", sentences = 30)"
   ]
  },
  {
   "cell_type": "code",
   "execution_count": 6,
   "metadata": {},
   "outputs": [
    {
     "data": {
      "text/plain": [
       "'National Testing Agency (NTA) is an Indian government agency that has been approved by the Union Council of Ministers and established in November 2017 to conduct entrance examinations for educational institutions. The government appointed Vineet Joshi as the first Director-General of the agency. NTA is responsible for \\nJoint Entrance Examination – Main (JEE Main), National Eligibility cum Entrance Test-Undergraduate (NEET UG), University Grants Commission–National Eligibility Test (UGC-NET), Common Management Admission Test (CMAT), Graduate Pharmacy Aptitude Test (GPAT), Common University Entrance Test (CUET) and All India Ayush Post Graduate Entrance Test (AIAPGET). \\n\\n\\n== History ==\\nThe roots of the agency can be traced to the Programme of Action 1992, related to National Policy of Education 1986, which mentioned conducting national level common entrance tests to professional and non-professional programmes of study. Its actual start was in 2010 with a report submitted to the Ministry of Human Resources Development (MHRD) by a committee consisting of some of the directors of the Indian Institutes of Technology (IITs), which recommended that the national testing agency be \"created by an Act of Parliament\". The report mentioned that a statutory agency can ensure independence and transparency in testing of the magnitude that is being envisaged.In 2013 the MHRD constituted a seven member task force to \"prepare a blue print for creating a special purpose vehicle to take the concept of National Testing Agency (NTA) forward\". This was following a decision made in April 2013 to set up the agency.In 2017 an announcement about NTA was made by the Finance Minister in the budget speech of 2017, and this was followed by cabinet approval.On 7 July 2018, Union HRD Minister Prakash Javadekar stated during a press conference that the NTA will be holding the Joint Entrance Examination – Main (JEE Main) and the National Eligibility cum Entrance Test-Undergraduate (NEET UG) twice a year, and will also be holding National Eligibility Test (NET), Common Management Admission Test (CMAT) and Graduate Pharmacy Aptitude Test (GPAT).\\n\\n\\n== Finance ==\\nUnion cabinet has granted an initial amount of ₹25 crore (equivalent to ₹35 crore or US$4.4 million in 2023) to NTA to start its operations in the first year.\\n\\n\\n== Members and their nature ==\\nThe administration of the NTA has been entrusted to the Governing Body.\\n\\n\\n== Examinations conducted by NTA ==\\nNTA conducts the following examinations.'"
      ]
     },
     "execution_count": 6,
     "metadata": {},
     "output_type": "execute_result"
    }
   ],
   "source": []
  }
 ],
 "metadata": {
  "kernelspec": {
   "display_name": "Python 3",
   "language": "python",
   "name": "python3"
  },
  "language_info": {
   "codemirror_mode": {
    "name": "ipython",
    "version": 3
   },
   "file_extension": ".py",
   "mimetype": "text/x-python",
   "name": "python",
   "nbconvert_exporter": "python",
   "pygments_lexer": "ipython3",
   "version": "3.11.7"
  }
 },
 "nbformat": 4,
 "nbformat_minor": 2
}
